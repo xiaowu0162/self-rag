{
 "cells": [
  {
   "cell_type": "code",
   "execution_count": 2,
   "id": "041132d5-0193-49dd-9e45-a66febef07f4",
   "metadata": {},
   "outputs": [],
   "source": [
    "import json\n",
    "import numpy as np\n",
    "import pandas as pd\n",
    "import matplotlib\n",
    "\n",
    "import matplotlib.pyplot as plt\n",
    "import seaborn as sns\n",
    "import pandas as pd\n"
   ]
  },
  {
   "cell_type": "code",
   "execution_count": null,
   "id": "0c67ffdc-3e22-47a2-9856-62edf85d98c9",
   "metadata": {},
   "outputs": [],
   "source": []
  },
  {
   "cell_type": "code",
   "execution_count": 20,
   "id": "30b874de-2791-4a92-b795-cc0a194aed9b",
   "metadata": {},
   "outputs": [
    {
     "name": "stdout",
     "output_type": "stream",
     "text": [
      "popqa selfrag-7b\n",
      "414 (0.29592566118656183), 584 (0.4174410293066476), 357 (0.2551822730521801), 44 (0.031451036454610434)\n",
      "popqa selfrag-13b\n",
      "448 (0.320228734810579), 585 (0.41815582558970693), 333 (0.23802716225875625), 33 (0.023588277340957826)\n",
      "triviaqa selfrag-7b\n",
      "2331 (0.2060461416070008), 3278 (0.2897551489436931), 5090 (0.4499248651993282), 614 (0.0542738442499779)\n",
      "triviaqa selfrag-13b\n",
      "1784 (0.15769468752762308), 2957 (0.2613807124546981), 5906 (0.52205427384425), 666 (0.0588703261734288)\n",
      "fever selfrag-7b\n",
      "89 (0.09017223910840932), 207 (0.20972644376899696), 621 (0.6291793313069909), 70 (0.07092198581560284)\n",
      "fever selfrag-13b\n",
      "61 (0.06180344478216818), 186 (0.1884498480243161), 693 (0.7021276595744681), 47 (0.047619047619047616)\n",
      "arc_c selfrag-7b\n",
      "28 (0.023890784982935155), 356 (0.3037542662116041), 760 (0.6484641638225256), 28 (0.023890784982935155)\n",
      "arc_c selfrag-13b\n",
      "29 (0.024744027303754267), 281 (0.23976109215017063), 828 (0.7064846416382252), 34 (0.02901023890784983)\n"
     ]
    }
   ],
   "source": [
    "\n",
    "for task in ['popqa', 'triviaqa', 'fever', 'arc_c']:\n",
    "    for model in ['selfrag-7b', 'selfrag-13b']:\n",
    "        infile_always_rag = f'/home/diwu/ralm/self-rag/results/{task}/adaptive-rag/{model}.json'\n",
    "        infile_no_rag = f'/home/diwu/ralm/self-rag/results/{task}/adaptive-rag/{model}-t0.9.json'\n",
    "        scores_no_rag = json.load(open(infile_no_rag))['metric_results']\n",
    "        scores_always_rag = json.load(open(infile_always_rag))['metric_results']\n",
    "\n",
    "        assert len(scores_no_rag) == len(scores_always_rag)\n",
    "        \n",
    "        wrong_to_correct, same_wrong, same_correct, correct_to_wrong = 0, 0, 0, 0\n",
    "        for score_pre, score_after in zip(scores_no_rag, scores_always_rag):\n",
    "            if score_pre == 0 and score_after == 1:\n",
    "                wrong_to_correct += 1\n",
    "            elif score_pre == 0 and score_after == 0:\n",
    "                same_wrong += 1\n",
    "            elif score_pre == 1 and score_after == 1:\n",
    "                same_correct += 1\n",
    "            else:\n",
    "                correct_to_wrong += 1\n",
    "\n",
    "        total = wrong_to_correct + same_wrong + same_correct + correct_to_wrong \n",
    "        \n",
    "        print(task, model)\n",
    "        print('{} ({}), {} ({}), {} ({}), {} ({})'.format(wrong_to_correct, wrong_to_correct/total, same_wrong, same_wrong/total, same_correct, same_correct/total, correct_to_wrong, correct_to_wrong/total))"
   ]
  },
  {
   "cell_type": "code",
   "execution_count": 30,
   "id": "e2e57961-3dd9-45d5-b8fe-b2754260fd58",
   "metadata": {},
   "outputs": [
    {
     "name": "stdout",
     "output_type": "stream",
     "text": [
      "popqa llama-2-7b\n",
      "338 (0.2416011436740529), 805 (0.5754110078627591), 148 (0.10578984989278056), 108 (0.07719799857040743)\n",
      "triviaqa llama-2-7b\n",
      "2544 (0.2248740387165208), 4681 (0.41377176699372403), 2951 (0.26085034915583843), 1137 (0.10050384513391673)\n",
      "fever llama-2-7b\n",
      "3 (0.00303951367781155), 972 (0.9848024316109423), 0 (0.0), 12 (0.0121580547112462)\n",
      "arc_c llama-2-7b\n",
      "147 (0.12542662116040956), 631 (0.53839590443686), 164 (0.13993174061433447), 230 (0.1962457337883959)\n"
     ]
    }
   ],
   "source": [
    "\n",
    "for task in ['popqa', 'triviaqa', 'fever', 'arc_c']:\n",
    "    for model in ['llama-2-7b']:\n",
    "        infile_always_rag = f'/home/diwu/ralm/self-rag/results/{task}/always-rag/{model}.json'\n",
    "        infile_no_rag = f'/home/diwu/ralm/self-rag/results/{task}/no-rag/{model}.json'\n",
    "        scores_no_rag = [json.loads(line)['metric_result'] for line in open(infile_no_rag).readlines()]\n",
    "        scores_always_rag = [json.loads(line)['metric_result'] for line in open(infile_always_rag).readlines()]\n",
    "\n",
    "        assert len(scores_no_rag) == len(scores_always_rag)\n",
    "        \n",
    "        wrong_to_correct, same_wrong, same_correct, correct_to_wrong = 0, 0, 0, 0\n",
    "        for score_pre, score_after in zip(scores_no_rag, scores_always_rag):\n",
    "            if score_pre == 0 and score_after == 1:\n",
    "                wrong_to_correct += 1\n",
    "            elif score_pre == 0 and score_after == 0:\n",
    "                same_wrong += 1\n",
    "            elif score_pre == 1 and score_after == 1:\n",
    "                same_correct += 1\n",
    "            else:\n",
    "                correct_to_wrong += 1\n",
    "\n",
    "        total = wrong_to_correct + same_wrong + same_correct + correct_to_wrong \n",
    "        \n",
    "        print(task, model)\n",
    "        print('{} ({}), {} ({}), {} ({}), {} ({})'.format(wrong_to_correct, wrong_to_correct/total, same_wrong, same_wrong/total, same_correct, same_correct/total, correct_to_wrong, correct_to_wrong/total))"
   ]
  },
  {
   "cell_type": "code",
   "execution_count": null,
   "id": "acd3b0d3-d70a-4365-ab23-3f4f2fc74fd7",
   "metadata": {},
   "outputs": [],
   "source": []
  }
 ],
 "metadata": {
  "kernelspec": {
   "display_name": "Python 3 (ipykernel)",
   "language": "python",
   "name": "python3"
  },
  "language_info": {
   "codemirror_mode": {
    "name": "ipython",
    "version": 3
   },
   "file_extension": ".py",
   "mimetype": "text/x-python",
   "name": "python",
   "nbconvert_exporter": "python",
   "pygments_lexer": "ipython3",
   "version": "3.8.18"
  }
 },
 "nbformat": 4,
 "nbformat_minor": 5
}
