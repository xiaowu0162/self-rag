{
 "cells": [
  {
   "cell_type": "code",
   "execution_count": 22,
   "id": "e8aec30e-a803-479b-84a8-42670a93bbb4",
   "metadata": {},
   "outputs": [],
   "source": [
    "import json\n",
    "import numpy as np\n",
    "import pandas as pd\n",
    "import matplotlib\n",
    "\n",
    "import matplotlib.pyplot as plt\n",
    "import seaborn as sns\n",
    "import pandas as pd\n",
    "from collections import Counter\n"
   ]
  },
  {
   "cell_type": "code",
   "execution_count": 4,
   "id": "4550d975-7691-419b-97c0-bb0ecfcbf298",
   "metadata": {},
   "outputs": [],
   "source": [
    "data_dir = '/home/diwu/ralm/self-rag/data_creation/'\n",
    "\n",
    "gen_data = [json.loads(line) for line in open(data_dir + '/generator_training_data_full_output_1005.jsonl').readlines()]\n",
    "critic_data = json.load(open(data_dir + '/critic_training_data_gpt4_reward_all_0813_train.json'))"
   ]
  },
  {
   "cell_type": "code",
   "execution_count": 5,
   "id": "b8c9044a-e8db-4b77-b355-ee67aea4287b",
   "metadata": {},
   "outputs": [],
   "source": [
    "critic_tasks = set([x['task'] for x in critic_data])\n",
    "critic_task2data = {t: [x for x in critic_data if x['task'] == t] for t in critic_tasks} "
   ]
  },
  {
   "cell_type": "code",
   "execution_count": 27,
   "id": "9b94effe-e622-49d6-8c5e-487c1fc3dc1a",
   "metadata": {},
   "outputs": [
    {
     "name": "stdout",
     "output_type": "stream",
     "text": [
      "(4798, 768) (768,)\n"
     ]
    }
   ],
   "source": [
    "from sklearn.metrics.pairwise import cosine_similarity\n",
    "from sentence_transformers import SentenceTransformer, util\n",
    "import numpy as np\n",
    "from typing import List, Tuple\n",
    "\n",
    "def jaccard_similarity(str1: str, str2: str) -> float:\n",
    "    \"\"\"Calculate the Jaccard Similarity between two strings.\"\"\"\n",
    "    set1 = set(str1.split())\n",
    "    set2 = set(str2.split())\n",
    "    intersection = set1.intersection(set2)\n",
    "    union = set1.union(set2)\n",
    "    return len(intersection) / len(union)\n",
    "\n",
    "def cosine_similarity_with_embedding(documents: List[str], query: str) -> List[Tuple[str, float]]:\n",
    "    \"\"\"Calculate cosine similarity using sentence transformer embeddings.\"\"\"\n",
    "    model = SentenceTransformer('all-mpnet-base-v2')\n",
    "    doc_embeddings = model.encode(documents)\n",
    "    query_embedding = model.encode(query)\n",
    "    print(doc_embeddings.shape, query_embedding.shape)\n",
    "    similarities = util.cos_sim(query_embedding, doc_embeddings).squeeze()\n",
    "    # similarities = cosine_similarity(query_embedding, doc_embeddings).flatten()\n",
    "    return [(documents[i], similarities[i]) for i in range(len(documents))]\n",
    "\n",
    "# def top_k_similar_strings(strings: List[str], query: str, k: int, similarity_func) -> List[Tuple[str, float]]:\n",
    "#     \"\"\"Return top-k most similar strings based on a similarity function.\"\"\"\n",
    "#     similarities = [(string, similarity_func(query, string)) for string in strings]\n",
    "#     sorted_similarities = sorted(similarities, key=lambda x: x[1], reverse=True)\n",
    "#     return sorted_similarities[:k]\n",
    "\n",
    "def top_k_similar_strings(strings: List[str], query: str, k: int, similarity_func) -> List[Tuple[str, float]]:\n",
    "    \"\"\"Return top-k most similar strings based on a similarity function.\"\"\"\n",
    "    similarities = similarity_func(strings, query)\n",
    "    sorted_similarities = sorted(similarities, key=lambda x: x[1], reverse=True)\n",
    "    return sorted_similarities[:k]\n",
    "\n",
    "\n",
    "# Example usage\n",
    "inst2entry = {x['input']: x for x in critic_task2data['retrieval']}\n",
    "strings = [x['input'] for x in critic_task2data['retrieval']]\n",
    "query = '### Instruction:\\nQuestion: Tell me a bio of {entity}.\\n\\n### Response:\\n'\n",
    "k = 20\n",
    "\n",
    "# Jaccard similarity\n",
    "# top_k_jaccard = top_k_similar_strings(strings, query, k, jaccard_similarity)\n",
    "# print(top_k_jaccard)\n",
    "\n",
    "# # Cosine similarity (this might take a bit longer due to model loading and embedding computation)\n",
    "top_k_cosine = top_k_similar_strings(strings, query, k, cosine_similarity_with_embedding)\n",
    "# print(strings)\n"
   ]
  },
  {
   "cell_type": "code",
   "execution_count": 29,
   "id": "7e2da229-c6e9-4c40-bfec-315fb8ccb4a8",
   "metadata": {},
   "outputs": [
    {
     "data": {
      "text/plain": [
       "[{'instruction': 'When provided with instruction, please evaluate whether seeking additional information from external sources such as the web (e.g., Wikipedia) aids in producing a more comprehensive response. Respond with either [Retrieval] or [No Retrieval].',\n",
       "  'input': 'Task instruction: Research about a famous scientist and provide a short biography about him/her.\\n',\n",
       "  'output': '[Retrieval]',\n",
       "  'task': 'retrieval'},\n",
       " {'instruction': 'When provided with instruction, please evaluate whether seeking additional information from external sources such as the web (e.g., Wikipedia) aids in producing a more comprehensive response. Respond with either [Retrieval] or [No Retrieval].',\n",
       "  'input': 'Task instruction: Describe the contents of the given Wikipedia article in one sentence. https://en.wikipedia.org/wiki/Data_visualization\\n',\n",
       "  'output': '[Retrieval]',\n",
       "  'task': 'retrieval'},\n",
       " {'instruction': 'When provided with instruction, please evaluate whether seeking additional information from external sources such as the web (e.g., Wikipedia) aids in producing a more comprehensive response. Respond with either [Retrieval] or [No Retrieval].',\n",
       "  'input': 'Task instruction: Generate a short bio for a professional chef.\\n',\n",
       "  'output': '[Retrieval]',\n",
       "  'task': 'retrieval'},\n",
       " {'instruction': 'When provided with instruction, please evaluate whether seeking additional information from external sources such as the web (e.g., Wikipedia) aids in producing a more comprehensive response. Respond with either [Retrieval] or [No Retrieval].',\n",
       "  'input': 'Task instruction: Create a character profile for a female scientist.\\n',\n",
       "  'output': '[Retrieval]',\n",
       "  'task': 'retrieval'},\n",
       " {'instruction': 'When provided with instruction, please evaluate whether seeking additional information from external sources such as the web (e.g., Wikipedia) aids in producing a more comprehensive response. Respond with either [Retrieval] or [No Retrieval].',\n",
       "  'input': 'Task instruction: Generate a question about frogs.\\n',\n",
       "  'output': '[No Retrieval]',\n",
       "  'task': 'retrieval'},\n",
       " {'instruction': 'When provided with instruction, please evaluate whether seeking additional information from external sources such as the web (e.g., Wikipedia) aids in producing a more comprehensive response. Respond with either [Retrieval] or [No Retrieval].',\n",
       "  'input': 'Task instruction: Create a character profile Ruth\\n',\n",
       "  'output': '[No Retrieval]',\n",
       "  'task': 'retrieval'},\n",
       " {'instruction': 'When provided with instruction, please evaluate whether seeking additional information from external sources such as the web (e.g., Wikipedia) aids in producing a more comprehensive response. Respond with either [Retrieval] or [No Retrieval].',\n",
       "  'input': 'Task instruction: Given the given description, classify it as either a historical figure, a myth, or a literary character. Sherlock Holmes\\n',\n",
       "  'output': '[Retrieval]',\n",
       "  'task': 'retrieval'},\n",
       " {'instruction': 'When provided with instruction, please evaluate whether seeking additional information from external sources such as the web (e.g., Wikipedia) aids in producing a more comprehensive response. Respond with either [Retrieval] or [No Retrieval].',\n",
       "  'input': 'Task instruction: Describe the following person John\\n',\n",
       "  'output': '[No Retrieval]',\n",
       "  'task': 'retrieval'},\n",
       " {'instruction': 'When provided with instruction, please evaluate whether seeking additional information from external sources such as the web (e.g., Wikipedia) aids in producing a more comprehensive response. Respond with either [Retrieval] or [No Retrieval].',\n",
       "  'input': 'Task instruction: Using the given facts, create a detailed profile of the character. Name: Sarah Johnson\\nAge: 18\\nOccupation: Waitress\\nLocation: Los Angeles\\n',\n",
       "  'output': '[No Retrieval]',\n",
       "  'task': 'retrieval'},\n",
       " {'instruction': 'When provided with instruction, please evaluate whether seeking additional information from external sources such as the web (e.g., Wikipedia) aids in producing a more comprehensive response. Respond with either [Retrieval] or [No Retrieval].',\n",
       "  'input': 'Task instruction: Write a short biography of Abraham Lincoln.\\n',\n",
       "  'output': '[Retrieval]',\n",
       "  'task': 'retrieval'},\n",
       " {'instruction': 'When provided with instruction, please evaluate whether seeking additional information from external sources such as the web (e.g., Wikipedia) aids in producing a more comprehensive response. Respond with either [Retrieval] or [No Retrieval].',\n",
       "  'input': 'Task instruction: Write a few sentences about a given historical figure. Amelia Earhart\\n',\n",
       "  'output': '[Retrieval]',\n",
       "  'task': 'retrieval'},\n",
       " {'instruction': 'When provided with instruction, please evaluate whether seeking additional information from external sources such as the web (e.g., Wikipedia) aids in producing a more comprehensive response. Respond with either [Retrieval] or [No Retrieval].',\n",
       "  'input': 'Task instruction: Summarize the article about data privacy in under 50 words. [Input: Link to article about data privacy]\\n',\n",
       "  'output': '[Retrieval]',\n",
       "  'task': 'retrieval'},\n",
       " {'instruction': 'When provided with instruction, please evaluate whether seeking additional information from external sources such as the web (e.g., Wikipedia) aids in producing a more comprehensive response. Respond with either [Retrieval] or [No Retrieval].',\n",
       "  'input': 'Task instruction: Generate an example of personification.\\n',\n",
       "  'output': '[No Retrieval]',\n",
       "  'task': 'retrieval'},\n",
       " {'instruction': 'When provided with instruction, please evaluate whether seeking additional information from external sources such as the web (e.g., Wikipedia) aids in producing a more comprehensive response. Respond with either [Retrieval] or [No Retrieval].',\n",
       "  'input': 'Task instruction: Generate a question to check understanding.\\n',\n",
       "  'output': '[No Retrieval]',\n",
       "  'task': 'retrieval'},\n",
       " {'instruction': 'When provided with instruction, please evaluate whether seeking additional information from external sources such as the web (e.g., Wikipedia) aids in producing a more comprehensive response. Respond with either [Retrieval] or [No Retrieval].',\n",
       "  'input': 'Task instruction: Write a Wikipedia page summarizing the details of the given event. Great Chicago Fire\\n',\n",
       "  'output': '[Retrieval]',\n",
       "  'task': 'retrieval'},\n",
       " {'instruction': 'When provided with instruction, please evaluate whether seeking additional information from external sources such as the web (e.g., Wikipedia) aids in producing a more comprehensive response. Respond with either [Retrieval] or [No Retrieval].',\n",
       "  'input': \"Task instruction: Classify 'X' as either a mammal, a bird, or an amphibian. X: Frog\\n\",\n",
       "  'output': '[No Retrieval]',\n",
       "  'task': 'retrieval'},\n",
       " {'instruction': 'When provided with instruction, please evaluate whether seeking additional information from external sources such as the web (e.g., Wikipedia) aids in producing a more comprehensive response. Respond with either [Retrieval] or [No Retrieval].',\n",
       "  'input': 'Task instruction: Describe the anatomy of a human.\\n',\n",
       "  'output': '[Retrieval]',\n",
       "  'task': 'retrieval'},\n",
       " {'instruction': 'When provided with instruction, please evaluate whether seeking additional information from external sources such as the web (e.g., Wikipedia) aids in producing a more comprehensive response. Respond with either [Retrieval] or [No Retrieval].',\n",
       "  'input': 'Task instruction: Summarize the characteristics of a given type of animal. Gorilla\\n',\n",
       "  'output': '[Retrieval]',\n",
       "  'task': 'retrieval'},\n",
       " {'instruction': 'When provided with instruction, please evaluate whether seeking additional information from external sources such as the web (e.g., Wikipedia) aids in producing a more comprehensive response. Respond with either [Retrieval] or [No Retrieval].',\n",
       "  'input': 'Task instruction: Write a short description of a French Bulldog.\\n',\n",
       "  'output': '[Retrieval]',\n",
       "  'task': 'retrieval'},\n",
       " {'instruction': 'When provided with instruction, please evaluate whether seeking additional information from external sources such as the web (e.g., Wikipedia) aids in producing a more comprehensive response. Respond with either [Retrieval] or [No Retrieval].',\n",
       "  'input': 'Task instruction: Research the biography of a famous person and explain what has made them successful.\\n',\n",
       "  'output': '[Retrieval]',\n",
       "  'task': 'retrieval'}]"
      ]
     },
     "execution_count": 29,
     "metadata": {},
     "output_type": "execute_result"
    }
   ],
   "source": [
    "[inst2entry[x[0]] for x in top_k_cosine]"
   ]
  },
  {
   "cell_type": "code",
   "execution_count": 6,
   "id": "1eb01928-16b1-4bed-b4b5-3dee0bd567da",
   "metadata": {},
   "outputs": [],
   "source": [
    "probs = [float(line.strip()) for line in open('/home/diwu/ralm/self-rag/analysis/critic_data_selective_probs_selfrag-7b.txt').readlines()]\n",
    "len(probs)\n",
    "entries = list(zip(probs, critic_task2data['retrieval']))\n"
   ]
  },
  {
   "cell_type": "code",
   "execution_count": 21,
   "id": "58232740-92fe-40bd-8a46-a86b2e80538e",
   "metadata": {},
   "outputs": [
    {
     "name": "stdout",
     "output_type": "stream",
     "text": [
      "T\tP\tR\tF1\n",
      "0.1\t0.4927\t0.9983\t0.6598\n",
      "0.2\t0.4872\t0.9768\t0.6502\n",
      "0.3\t0.4527\t0.8487\t0.5904\n",
      "0.4\t0.3411\t0.5199\t0.4119\n",
      "0.5\t0.1571\t0.1509\t0.1539\n",
      "0.6\t0.0458\t0.0173\t0.0251\n",
      "0.7\t0.0320\t0.0017\t0.0032\n",
      "0.8\t0.0000\t0.0000\t0.0000\n",
      "0.9\t0.0000\t0.0000\t0.0000\n"
     ]
    }
   ],
   "source": [
    "\n",
    "retrieval_entries = [x for x in entries if x[1]['output'] == '[Retrieval]']\n",
    "no_retrieval_entries = [x for x in entries if x[1]['output'] == '[No Retrieval]']\n",
    " \n",
    "print('T\\tP\\tR\\tF1')\n",
    "for threshold in [0.1, 0.2, 0.3, 0.4, 0.5, 0.6, 0.7, 0.8, 0.9]:\n",
    "    precision_count, precision_all = 0, 0\n",
    "    recall_count, recall_all = 0, 0\n",
    "    for score, entry in entries:\n",
    "        if entry['output'] == '[Retrieval]':\n",
    "            recall_all += 1\n",
    "            if score > threshold:\n",
    "                recall_count += 1\n",
    "        if score > threshold:\n",
    "            precision_all += 1\n",
    "            if entry['output'] == '[Retrieval]':\n",
    "                precision_count += 1\n",
    "\n",
    "    precision = precision_count / precision_all if precision_all != 0 else 0\n",
    "    recall = recall_count / recall_all if recall_all != 0 else 0\n",
    "    f1 = ((2 * precision * recall) / (precision + recall)) if precision * recall != 0 else 0 \n",
    "    \n",
    "    # no_retrieval_acc = len([x for x in no_retrieval_entries if x[0] <= threshold]) / len(no_retrieval_entries)\n",
    "    # retrieval_acc = len([x for x in retrieval_entries if x[0] > threshold]) / len(retrieval_entries)\n",
    "    # print('{} {:.04f} {:.04f}'.format(threshold, no_retrieval_acc, retrieval_acc))\n",
    "\n",
    "    \n",
    "    print('{}\\t{:.04f}\\t{:.04f}\\t{:.04f}'.format(threshold, precision, recall, f1))"
   ]
  },
  {
   "cell_type": "code",
   "execution_count": 26,
   "id": "09e84290-f8d2-4e2a-b4c9-72dccb24f12a",
   "metadata": {},
   "outputs": [
    {
     "data": {
      "image/png": "[encoded data removed]",
      "text/plain": [
       "<Figure size 1500x400 with 1 Axes>"
      ]
     },
     "metadata": {},
     "output_type": "display_data"
    },
    {
     "data": {
      "image/png": "[encoded data removed]",
      "text/plain": [
       "<Figure size 1500x400 with 1 Axes>"
      ]
     },
     "metadata": {},
     "output_type": "display_data"
    }
   ],
   "source": [
    "# group into buckets\n",
    "def plot_score_distribution_v3(values, ranges, exp_name, out_dir):\n",
    "    def bucket_value(val, ranges):\n",
    "        try:\n",
    "            _ = ranges[0]\n",
    "            for start, end in ranges:\n",
    "                if start <= val < end:\n",
    "                    if end == -0.01:\n",
    "                        return f\"({start}, 0)\"\n",
    "                    if start == -0.01:\n",
    "                        return \"0\"\n",
    "                    if start == 0.01:\n",
    "                        return f\"(0, {end})\"\n",
    "                    return f\"({start}, {end})\"\n",
    "            return f\"({end}+)\"\n",
    "        except:\n",
    "            for x in ranges:\n",
    "                if x == val:\n",
    "                    return f\"{x}\"\n",
    "            return \"others\"\n",
    "\n",
    "    df = pd.DataFrame(values, columns=[\"Value\"])\n",
    "    df[\"Bucket\"] = df[\"Value\"].apply(bucket_value, ranges=ranges)\n",
    "\n",
    "    try:\n",
    "        order = [f\"({start}, {end})\" for start, end in ranges] # + [f\"({ranges[-1][1]}+)\"]\n",
    "    except:\n",
    "        order = [f\"{x}\" for x in ranges] + [\"others\"]\n",
    "\n",
    "    order_corrected = []\n",
    "    for start, end in ranges:\n",
    "        if end == -0.01:\n",
    "            order_corrected.append(f\"({start}, 0)\")\n",
    "        elif start == -0.01:\n",
    "            order_corrected.append(\"0\")\n",
    "        elif start == 0.01:\n",
    "            order_corrected.append(f\"(0, {end})\")\n",
    "        else:\n",
    "            order_corrected.append(f\"({start}, {end})\")\n",
    "\n",
    "    plt.figure(figsize=(15, 4))\n",
    "    sns.countplot(data=df, x=\"Bucket\", order=order_corrected)\n",
    "    plt.title(exp_name)\n",
    "    plt.show()\n",
    "\n",
    "plot_score_distribution_v3([x[0] for x in retrieval_entries],\n",
    "                           [(0, 0.1), (0.1, 0.2), (0.2, 0.3), (0.3, 0.4), (0.4, 0.5), (0.5, 0.6), (0.6, 0.7), (0.7, 0.8), (0.8, 0.9), (0.9, 1)], \n",
    "                           'Retrieval Label = True', \"\")\n",
    "plot_score_distribution_v3([x[0] for x in no_retrieval_entries],\n",
    "                           [(0, 0.1), (0.1, 0.2), (0.2, 0.3), (0.3, 0.4), (0.4, 0.5), (0.5, 0.6), (0.6, 0.7), (0.7, 0.8), (0.8, 0.9), (0.9, 1)], \n",
    "                           'Retrieval Label = False', \"\")"
   ]
  },
  {
   "cell_type": "code",
   "execution_count": null,
   "id": "fc815ce3-9f5c-430a-8f27-710853a62264",
   "metadata": {},
   "outputs": [],
   "source": []
  }
 ],
 "metadata": {
  "kernelspec": {
   "display_name": "Python 3 (ipykernel)",
   "language": "python",
   "name": "python3"
  },
  "language_info": {
   "codemirror_mode": {
    "name": "ipython",
    "version": 3
   },
   "file_extension": ".py",
   "mimetype": "text/x-python",
   "name": "python",
   "nbconvert_exporter": "python",
   "pygments_lexer": "ipython3",
   "version": "3.8.16"
  }
 },
 "nbformat": 4,
 "nbformat_minor": 5
}
