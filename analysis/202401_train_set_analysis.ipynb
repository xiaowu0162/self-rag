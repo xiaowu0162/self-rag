{
 "cells": [
  {
   "cell_type": "code",
   "execution_count": 18,
   "id": "e8aec30e-a803-479b-84a8-42670a93bbb4",
   "metadata": {},
   "outputs": [],
   "source": [
    "import json\n",
    "import numpy as np\n",
    "import pandas as pd\n",
    "import matplotlib\n",
    "\n",
    "import matplotlib.pyplot as plt\n",
    "import seaborn as sns\n",
    "import pandas as pd\n",
    "from collections import Counter\n",
    "\n",
    "import torch"
   ]
  },
  {
   "cell_type": "code",
   "execution_count": 19,
   "id": "4550d975-7691-419b-97c0-bb0ecfcbf298",
   "metadata": {},
   "outputs": [],
   "source": [
    "data_dir = '/home/diwu/ralm/self-rag/data_creation/'\n",
    "\n",
    "gen_data = [json.loads(line) for line in open(data_dir + '/generator_training_data_full_output_1005.jsonl').readlines()]\n",
    "critic_data = json.load(open(data_dir + '/critic_training_data_gpt4_reward_all_0813_train.json'))"
   ]
  },
  {
   "cell_type": "code",
   "execution_count": 20,
   "id": "b8c9044a-e8db-4b77-b355-ee67aea4287b",
   "metadata": {},
   "outputs": [],
   "source": [
    "critic_tasks = set([x['task'] for x in critic_data])\n",
    "critic_task2data = {t: [x for x in critic_data if x['task'] == t] for t in critic_tasks} \n",
    "gen_tasks = set([x['task'] for x in critic_data])\n",
    "gen_task2data = {t: [x for x in critic_data if x['task'] == t] for t in gen_tasks} "
   ]
  },
  {
   "cell_type": "code",
   "execution_count": 27,
   "id": "9b94effe-e622-49d6-8c5e-487c1fc3dc1a",
   "metadata": {},
   "outputs": [
    {
     "name": "stdout",
     "output_type": "stream",
     "text": [
      "(4798, 768) (768,)\n"
     ]
    }
   ],
   "source": [
    "from sklearn.metrics.pairwise import cosine_similarity\n",
    "from sentence_transformers import SentenceTransformer, util\n",
    "import numpy as np\n",
    "from typing import List, Tuple\n",
    "\n",
    "def jaccard_similarity(str1: str, str2: str) -> float:\n",
    "    \"\"\"Calculate the Jaccard Similarity between two strings.\"\"\"\n",
    "    set1 = set(str1.split())\n",
    "    set2 = set(str2.split())\n",
    "    intersection = set1.intersection(set2)\n",
    "    union = set1.union(set2)\n",
    "    return len(intersection) / len(union)\n",
    "\n",
    "def cosine_similarity_with_embedding(documents: List[str], query: str) -> List[Tuple[str, float]]:\n",
    "    \"\"\"Calculate cosine similarity using sentence transformer embeddings.\"\"\"\n",
    "    model = SentenceTransformer('all-mpnet-base-v2')\n",
    "    doc_embeddings = model.encode(documents)\n",
    "    query_embedding = model.encode(query)\n",
    "    print(doc_embeddings.shape, query_embedding.shape)\n",
    "    similarities = util.cos_sim(query_embedding, doc_embeddings).squeeze()\n",
    "    # similarities = cosine_similarity(query_embedding, doc_embeddings).flatten()\n",
    "    return [(documents[i], similarities[i]) for i in range(len(documents))]\n",
    "\n",
    "# def top_k_similar_strings(strings: List[str], query: str, k: int, similarity_func) -> List[Tuple[str, float]]:\n",
    "#     \"\"\"Return top-k most similar strings based on a similarity function.\"\"\"\n",
    "#     similarities = [(string, similarity_func(query, string)) for string in strings]\n",
    "#     sorted_similarities = sorted(similarities, key=lambda x: x[1], reverse=True)\n",
    "#     return sorted_similarities[:k]\n",
    "\n",
    "def top_k_similar_strings(strings: List[str], query: str, k: int, similarity_func) -> List[Tuple[str, float]]:\n",
    "    \"\"\"Return top-k most similar strings based on a similarity function.\"\"\"\n",
    "    similarities = similarity_func(strings, query)\n",
    "    sorted_similarities = sorted(similarities, key=lambda x: x[1], reverse=True)\n",
    "    return sorted_similarities[:k]\n",
    "\n",
    "\n",
    "# Example usage\n",
    "inst2entry = {x['input']: x for x in critic_task2data['retrieval']}\n",
    "strings = [x['input'] for x in critic_task2data['retrieval']]\n",
    "query = '### Instruction:\\nQuestion: Tell me a bio of {entity}.\\n\\n### Response:\\n'\n",
    "k = 20\n",
    "\n",
    "# Jaccard similarity\n",
    "# top_k_jaccard = top_k_similar_strings(strings, query, k, jaccard_similarity)\n",
    "# print(top_k_jaccard)\n",
    "\n",
    "# # Cosine similarity (this might take a bit longer due to model loading and embedding computation)\n",
    "top_k_cosine = top_k_similar_strings(strings, query, k, cosine_similarity_with_embedding)\n",
    "# print(strings)\n"
   ]
  },
  {
   "cell_type": "code",
   "execution_count": 29,
   "id": "7e2da229-c6e9-4c40-bfec-315fb8ccb4a8",
   "metadata": {},
   "outputs": [
    {
     "data": {
      "text/plain": [
       "[{'instruction': 'When provided with instruction, please evaluate whether seeking additional information from external sources such as the web (e.g., Wikipedia) aids in producing a more comprehensive response. Respond with either [Retrieval] or [No Retrieval].',\n",
       "  'input': 'Task instruction: Research about a famous scientist and provide a short biography about him/her.\\n',\n",
       "  'output': '[Retrieval]',\n",
       "  'task': 'retrieval'},\n",
       " {'instruction': 'When provided with instruction, please evaluate whether seeking additional information from external sources such as the web (e.g., Wikipedia) aids in producing a more comprehensive response. Respond with either [Retrieval] or [No Retrieval].',\n",
       "  'input': 'Task instruction: Describe the contents of the given Wikipedia article in one sentence. https://en.wikipedia.org/wiki/Data_visualization\\n',\n",
       "  'output': '[Retrieval]',\n",
       "  'task': 'retrieval'},\n",
       " {'instruction': 'When provided with instruction, please evaluate whether seeking additional information from external sources such as the web (e.g., Wikipedia) aids in producing a more comprehensive response. Respond with either [Retrieval] or [No Retrieval].',\n",
       "  'input': 'Task instruction: Generate a short bio for a professional chef.\\n',\n",
       "  'output': '[Retrieval]',\n",
       "  'task': 'retrieval'},\n",
       " {'instruction': 'When provided with instruction, please evaluate whether seeking additional information from external sources such as the web (e.g., Wikipedia) aids in producing a more comprehensive response. Respond with either [Retrieval] or [No Retrieval].',\n",
       "  'input': 'Task instruction: Create a character profile for a female scientist.\\n',\n",
       "  'output': '[Retrieval]',\n",
       "  'task': 'retrieval'},\n",
       " {'instruction': 'When provided with instruction, please evaluate whether seeking additional information from external sources such as the web (e.g., Wikipedia) aids in producing a more comprehensive response. Respond with either [Retrieval] or [No Retrieval].',\n",
       "  'input': 'Task instruction: Generate a question about frogs.\\n',\n",
       "  'output': '[No Retrieval]',\n",
       "  'task': 'retrieval'},\n",
       " {'instruction': 'When provided with instruction, please evaluate whether seeking additional information from external sources such as the web (e.g., Wikipedia) aids in producing a more comprehensive response. Respond with either [Retrieval] or [No Retrieval].',\n",
       "  'input': 'Task instruction: Create a character profile Ruth\\n',\n",
       "  'output': '[No Retrieval]',\n",
       "  'task': 'retrieval'},\n",
       " {'instruction': 'When provided with instruction, please evaluate whether seeking additional information from external sources such as the web (e.g., Wikipedia) aids in producing a more comprehensive response. Respond with either [Retrieval] or [No Retrieval].',\n",
       "  'input': 'Task instruction: Given the given description, classify it as either a historical figure, a myth, or a literary character. Sherlock Holmes\\n',\n",
       "  'output': '[Retrieval]',\n",
       "  'task': 'retrieval'},\n",
       " {'instruction': 'When provided with instruction, please evaluate whether seeking additional information from external sources such as the web (e.g., Wikipedia) aids in producing a more comprehensive response. Respond with either [Retrieval] or [No Retrieval].',\n",
       "  'input': 'Task instruction: Describe the following person John\\n',\n",
       "  'output': '[No Retrieval]',\n",
       "  'task': 'retrieval'},\n",
       " {'instruction': 'When provided with instruction, please evaluate whether seeking additional information from external sources such as the web (e.g., Wikipedia) aids in producing a more comprehensive response. Respond with either [Retrieval] or [No Retrieval].',\n",
       "  'input': 'Task instruction: Using the given facts, create a detailed profile of the character. Name: Sarah Johnson\\nAge: 18\\nOccupation: Waitress\\nLocation: Los Angeles\\n',\n",
       "  'output': '[No Retrieval]',\n",
       "  'task': 'retrieval'},\n",
       " {'instruction': 'When provided with instruction, please evaluate whether seeking additional information from external sources such as the web (e.g., Wikipedia) aids in producing a more comprehensive response. Respond with either [Retrieval] or [No Retrieval].',\n",
       "  'input': 'Task instruction: Write a short biography of Abraham Lincoln.\\n',\n",
       "  'output': '[Retrieval]',\n",
       "  'task': 'retrieval'},\n",
       " {'instruction': 'When provided with instruction, please evaluate whether seeking additional information from external sources such as the web (e.g., Wikipedia) aids in producing a more comprehensive response. Respond with either [Retrieval] or [No Retrieval].',\n",
       "  'input': 'Task instruction: Write a few sentences about a given historical figure. Amelia Earhart\\n',\n",
       "  'output': '[Retrieval]',\n",
       "  'task': 'retrieval'},\n",
       " {'instruction': 'When provided with instruction, please evaluate whether seeking additional information from external sources such as the web (e.g., Wikipedia) aids in producing a more comprehensive response. Respond with either [Retrieval] or [No Retrieval].',\n",
       "  'input': 'Task instruction: Summarize the article about data privacy in under 50 words. [Input: Link to article about data privacy]\\n',\n",
       "  'output': '[Retrieval]',\n",
       "  'task': 'retrieval'},\n",
       " {'instruction': 'When provided with instruction, please evaluate whether seeking additional information from external sources such as the web (e.g., Wikipedia) aids in producing a more comprehensive response. Respond with either [Retrieval] or [No Retrieval].',\n",
       "  'input': 'Task instruction: Generate an example of personification.\\n',\n",
       "  'output': '[No Retrieval]',\n",
       "  'task': 'retrieval'},\n",
       " {'instruction': 'When provided with instruction, please evaluate whether seeking additional information from external sources such as the web (e.g., Wikipedia) aids in producing a more comprehensive response. Respond with either [Retrieval] or [No Retrieval].',\n",
       "  'input': 'Task instruction: Generate a question to check understanding.\\n',\n",
       "  'output': '[No Retrieval]',\n",
       "  'task': 'retrieval'},\n",
       " {'instruction': 'When provided with instruction, please evaluate whether seeking additional information from external sources such as the web (e.g., Wikipedia) aids in producing a more comprehensive response. Respond with either [Retrieval] or [No Retrieval].',\n",
       "  'input': 'Task instruction: Write a Wikipedia page summarizing the details of the given event. Great Chicago Fire\\n',\n",
       "  'output': '[Retrieval]',\n",
       "  'task': 'retrieval'},\n",
       " {'instruction': 'When provided with instruction, please evaluate whether seeking additional information from external sources such as the web (e.g., Wikipedia) aids in producing a more comprehensive response. Respond with either [Retrieval] or [No Retrieval].',\n",
       "  'input': \"Task instruction: Classify 'X' as either a mammal, a bird, or an amphibian. X: Frog\\n\",\n",
       "  'output': '[No Retrieval]',\n",
       "  'task': 'retrieval'},\n",
       " {'instruction': 'When provided with instruction, please evaluate whether seeking additional information from external sources such as the web (e.g., Wikipedia) aids in producing a more comprehensive response. Respond with either [Retrieval] or [No Retrieval].',\n",
       "  'input': 'Task instruction: Describe the anatomy of a human.\\n',\n",
       "  'output': '[Retrieval]',\n",
       "  'task': 'retrieval'},\n",
       " {'instruction': 'When provided with instruction, please evaluate whether seeking additional information from external sources such as the web (e.g., Wikipedia) aids in producing a more comprehensive response. Respond with either [Retrieval] or [No Retrieval].',\n",
       "  'input': 'Task instruction: Summarize the characteristics of a given type of animal. Gorilla\\n',\n",
       "  'output': '[Retrieval]',\n",
       "  'task': 'retrieval'},\n",
       " {'instruction': 'When provided with instruction, please evaluate whether seeking additional information from external sources such as the web (e.g., Wikipedia) aids in producing a more comprehensive response. Respond with either [Retrieval] or [No Retrieval].',\n",
       "  'input': 'Task instruction: Write a short description of a French Bulldog.\\n',\n",
       "  'output': '[Retrieval]',\n",
       "  'task': 'retrieval'},\n",
       " {'instruction': 'When provided with instruction, please evaluate whether seeking additional information from external sources such as the web (e.g., Wikipedia) aids in producing a more comprehensive response. Respond with either [Retrieval] or [No Retrieval].',\n",
       "  'input': 'Task instruction: Research the biography of a famous person and explain what has made them successful.\\n',\n",
       "  'output': '[Retrieval]',\n",
       "  'task': 'retrieval'}]"
      ]
     },
     "execution_count": 29,
     "metadata": {},
     "output_type": "execute_result"
    }
   ],
   "source": [
    "[inst2entry[x[0]] for x in top_k_cosine]"
   ]
  },
  {
   "cell_type": "code",
   "execution_count": 24,
   "id": "1eb01928-16b1-4bed-b4b5-3dee0bd567da",
   "metadata": {},
   "outputs": [
    {
     "name": "stdout",
     "output_type": "stream",
     "text": [
      "4798\n"
     ]
    }
   ],
   "source": [
    "# probs = [float(line.strip()) for line in open('/home/diwu/ralm/self-rag/analysis/critic_data_selective_probs_selfrag-7b.txt').readlines()]\n",
    "prob_outputs = [json.loads(line) for line in open('/home/diwu/ralm/self-rag/analysis/critic_data_selective_probs_selfrag-critic-0105ckpt-4kretrievaldata_reflectiontriggertrue.txt').readlines()]\n",
    "probs = [torch.exp(torch.tensor(x['ret_token_log_prob'])).item() / (torch.exp(torch.tensor(x['ret_token_log_prob'])).item() + torch.exp(torch.tensor(x['no_ret_token_log_prob'])).item()) for x in prob_outputs]\n",
    "# print(prob_outputs[0])\n",
    "# probs = [float(line.strip()) for line in open('/home/diwu/ralm/self-rag/analysis/critic_data_selective_probs_selfrag-critic-0105ckpt-4kretrievaldata_reflectiontriggertrue.txt').readlines()]\n",
    "\n",
    "print(len(probs))\n",
    "entries = list(zip(probs, critic_task2data['retrieval']))\n"
   ]
  },
  {
   "cell_type": "code",
   "execution_count": 25,
   "id": "58232740-92fe-40bd-8a46-a86b2e80538e",
   "metadata": {},
   "outputs": [
    {
     "name": "stdout",
     "output_type": "stream",
     "text": [
      "T\tP\tR\tF1\n",
      "0.1\t0.4931\t1.0000\t0.6605\n",
      "0.2\t0.6136\t0.9569\t0.7477\n",
      "0.3\t0.7871\t0.8483\t0.8165\n",
      "0.4\t0.8237\t0.8039\t0.8137\n",
      "0.5\t0.8442\t0.7718\t0.8064\n",
      "0.6\t0.8571\t0.7553\t0.8030\n",
      "0.7\t0.8754\t0.7367\t0.8001\n",
      "0.8\t0.9519\t0.5270\t0.6785\n",
      "0.9\t0.0000\t0.0000\t0.0000\n"
     ]
    }
   ],
   "source": [
    "\n",
    "retrieval_entries = [x for x in entries if x[1]['output'] == '[Retrieval]']\n",
    "no_retrieval_entries = [x for x in entries if x[1]['output'] == '[No Retrieval]']\n",
    "\n",
    "print('T\\tP\\tR\\tF1')\n",
    "for threshold in [0.1, 0.2, 0.3, 0.4, 0.5, 0.6, 0.7, 0.8, 0.9]:\n",
    "    precision_count, precision_all = 0, 0\n",
    "    recall_count, recall_all = 0, 0\n",
    "    for score, entry in entries:\n",
    "        if entry['output'] == '[Retrieval]':\n",
    "            recall_all += 1\n",
    "            if score > threshold:\n",
    "                recall_count += 1\n",
    "        if score > threshold:\n",
    "            precision_all += 1\n",
    "            if entry['output'] == '[Retrieval]':\n",
    "                precision_count += 1\n",
    "\n",
    "    precision = precision_count / precision_all if precision_all != 0 else 0\n",
    "    recall = recall_count / recall_all if recall_all != 0 else 0\n",
    "    f1 = ((2 * precision * recall) / (precision + recall)) if precision * recall != 0 else 0 \n",
    "    \n",
    "    # no_retrieval_acc = len([x for x in no_retrieval_entries if x[0] <= threshold]) / len(no_retrieval_entries)\n",
    "    # retrieval_acc = len([x for x in retrieval_entries if x[0] > threshold]) / len(retrieval_entries)\n",
    "    # print('{} {:.04f} {:.04f}'.format(threshold, no_retrieval_acc, retrieval_acc))\n",
    "\n",
    "    \n",
    "    print('{}\\t{:.04f}\\t{:.04f}\\t{:.04f}'.format(threshold, precision, recall, f1))"
   ]
  },
  {
   "cell_type": "code",
   "execution_count": 26,
   "id": "09e84290-f8d2-4e2a-b4c9-72dccb24f12a",
   "metadata": {},
   "outputs": [
    {
     "data": {
      "image/png": "[encoded data removed]",
      "text/plain": [
       "<Figure size 1500x400 with 1 Axes>"
      ]
     },
     "metadata": {},
     "output_type": "display_data"
    },
    {
     "data": {
      "image/png": "[encoded data removed]",
      "text/plain": [
       "<Figure size 1500x400 with 1 Axes>"
      ]
     },
     "metadata": {},
     "output_type": "display_data"
    }
   ],
   "source": [
    "# group into buckets\n",
    "def plot_score_distribution_v3(values, ranges, exp_name, out_dir):\n",
    "    def bucket_value(val, ranges):\n",
    "        try:\n",
    "            _ = ranges[0]\n",
    "            for start, end in ranges:\n",
    "                if start <= val < end:\n",
    "                    if end == -0.01:\n",
    "                        return f\"({start}, 0)\"\n",
    "                    if start == -0.01:\n",
    "                        return \"0\"\n",
    "                    if start == 0.01:\n",
    "                        return f\"(0, {end})\"\n",
    "                    return f\"({start}, {end})\"\n",
    "            return f\"({end}+)\"\n",
    "        except:\n",
    "            for x in ranges:\n",
    "                if x == val:\n",
    "                    return f\"{x}\"\n",
    "            return \"others\"\n",
    "\n",
    "    df = pd.DataFrame(values, columns=[\"Value\"])\n",
    "    df[\"Bucket\"] = df[\"Value\"].apply(bucket_value, ranges=ranges)\n",
    "\n",
    "    try:\n",
    "        order = [f\"({start}, {end})\" for start, end in ranges] # + [f\"({ranges[-1][1]}+)\"]\n",
    "    except:\n",
    "        order = [f\"{x}\" for x in ranges] + [\"others\"]\n",
    "\n",
    "    order_corrected = []\n",
    "    for start, end in ranges:\n",
    "        if end == -0.01:\n",
    "            order_corrected.append(f\"({start}, 0)\")\n",
    "        elif start == -0.01:\n",
    "            order_corrected.append(\"0\")\n",
    "        elif start == 0.01:\n",
    "            order_corrected.append(f\"(0, {end})\")\n",
    "        else:\n",
    "            order_corrected.append(f\"({start}, {end})\")\n",
    "\n",
    "    plt.figure(figsize=(15, 4))\n",
    "    sns.countplot(data=df, x=\"Bucket\", order=order_corrected)\n",
    "    plt.title(exp_name)\n",
    "    plt.show()\n",
    "\n",
    "plot_score_distribution_v3([x[0] for x in retrieval_entries],\n",
    "                           [(0, 0.1), (0.1, 0.2), (0.2, 0.3), (0.3, 0.4), (0.4, 0.5), (0.5, 0.6), (0.6, 0.7), (0.7, 0.8), (0.8, 0.9), (0.9, 1)], \n",
    "                           'Retrieval Label = True', \"\")\n",
    "plot_score_distribution_v3([x[0] for x in no_retrieval_entries],\n",
    "                           [(0, 0.1), (0.1, 0.2), (0.2, 0.3), (0.3, 0.4), (0.4, 0.5), (0.5, 0.6), (0.6, 0.7), (0.7, 0.8), (0.8, 0.9), (0.9, 1)], \n",
    "                           'Retrieval Label = False', \"\")"
   ]
  },
  {
   "cell_type": "code",
   "execution_count": 85,
   "id": "ccf40b9d-bc86-4cd2-9284-5d9d57c85169",
   "metadata": {},
   "outputs": [
    {
     "name": "stdout",
     "output_type": "stream",
     "text": [
      "0.8172155064610255\n",
      "Counter({'[No Retrieval]': 2635, '[Retrieval]': 2163})\n",
      "tp=1826, fp=337, tn=2095, fn=540\n",
      "p=0.8441978733240869, r=0.7717666948436179\n"
     ]
    }
   ],
   "source": [
    "binary_preds = [line.strip() for line in open('/home/diwu/ralm/self-rag/analysis/critic_data_greedy_selfrag-critic-0105ckpt-4kretrievaldata_reflectiontriggertrue.txt').readlines()]\n",
    "entries = list(zip(binary_preds, critic_task2data['retrieval']))\n",
    "\n",
    "acc = []\n",
    "tp, fp, tn, fn = 0, 0, 0, 0\n",
    "confusion_instances = {'tp': [], 'fp': [], 'tn': [], 'fn': []}\n",
    "for pred, entry in entries:\n",
    "    if entry['output'] == pred:\n",
    "        acc.append(1)\n",
    "    else:\n",
    "        acc.append(0)\n",
    "\n",
    "    if entry['output'] == '[Retrieval]' and pred == '[Retrieval]':\n",
    "        tp += 1\n",
    "        confusion_instances['tp'].append(entry)\n",
    "    elif entry['output'] == '[Retrieval]' and pred != '[Retrieval]':\n",
    "        fn += 1\n",
    "        confusion_instances['fn'].append(entry)\n",
    "    elif entry['output'] != '[Retrieval]' and pred == '[Retrieval]':\n",
    "        fp += 1\n",
    "        confusion_instances['fp'].append(entry)\n",
    "    else:\n",
    "        tn += 1\n",
    "        confusion_instances['tn'].append(entry)\n",
    "        \n",
    "print(np.mean(acc))\n",
    "print(Counter(binary_preds))\n",
    "# tp, fp, tn, fn = tp/len(acc), fp/len(acc), tn/len(acc), fn/len(acc)\n",
    "print(f'tp={tp}, fp={fp}, tn={tn}, fn={fn}')\n",
    "print(f'p={tp/(tp+fp)}, r={tp/(tp+fn)}')"
   ]
  },
  {
   "cell_type": "code",
   "execution_count": 76,
   "id": "900d7b7f-0ff5-4dbe-b2fe-f51ddd8dd777",
   "metadata": {},
   "outputs": [],
   "source": [
    "\n",
    "# plot_score_distribution_v3([len(x['input'].split()) for _, x in retrieval_entries],\n",
    "#                            [(1, 3), (3,6), (6,9), (9, 12), (12, 15), (15, 18), (18,21), (21, 24), (24, 27), (27, 30), (30, 33), (33, 36), (36, 39), (39,42)], \n",
    "#                            'Sentence length distribution for Retrieval Label = True', \"\")\n",
    "\n",
    "# plot_score_distribution_v3([len(x['input'].split()) for _, x in no_retrieval_entries],\n",
    "#                            [(1, 3), (3,6), (6,9), (9, 12), (12, 15), (15, 18), (18,21), (21, 24), (24, 27), (27, 30), (30, 33), (33, 36), (36, 39), (39,42)], \n",
    "#                            'Sentence length distribution for Retrieval Label = False', \"\")"
   ]
  },
  {
   "cell_type": "code",
   "execution_count": 71,
   "id": "7eea42b1-21c5-4a2c-b9fd-14e4640e2ee4",
   "metadata": {},
   "outputs": [
    {
     "name": "stdout",
     "output_type": "stream",
     "text": [
      "Counter({'gpt4_alpaca': 26168, 'stanford_alpaca': 25153, 'flan_v2': 17817, 'wow': 17367, 'nq': 15535, 'sharegpt': 13406, 'fever': 9966, 'oasst1': 9464, 'obqa': 4699, 'asqa': 3897, 'arc_easy': 2147})\n",
      "Retrieval label distribution\n",
      "flan_v2\n",
      "\t0.1586 RET\t0.0294 CONT\t0.0723 mixture\n",
      "sharegpt\n",
      "\t0.7683 RET\t0.1351 CONT\t0.6720 mixture\n",
      "nq\n",
      "\t0.8771 RET\t0.0001 CONT\t0.0004 mixture\n",
      "gpt4_alpaca\n",
      "\t0.5329 RET\t0.1488 CONT\t0.4029 mixture\n",
      "wow\n",
      "\t0.2266 RET\t0.0873 CONT\t0.2064 mixture\n",
      "asqa\n",
      "\t0.9153 RET\t0.4455 CONT\t0.5635 mixture\n",
      "oasst1\n",
      "\t0.7709 RET\t0.1461 CONT\t0.5714 mixture\n",
      "fever\n",
      "\t0.6323 RET\t0.0000 CONT\t0.0000 mixture\n",
      "obqa\n",
      "\t0.0228 RET\t0.0000 CONT\t0.0000 mixture\n",
      "stanford_alpaca\n",
      "\t0.4803 RET\t0.0720 CONT\t0.2226 mixture\n",
      "arc_easy\n",
      "\t0.1095 RET\t0.0000 CONT\t0.0000 mixture\n"
     ]
    }
   ],
   "source": [
    "def has_more_than_one(s):\n",
    "    if '[Retrieval]' in s and '[No Retrieval]' in s:\n",
    "        return True\n",
    "    if '[Retrieval]' in s and '[Continue to Use Evidence]' in s:\n",
    "        return True\n",
    "    if '[Continue to Use Evidence]' in s and '[No Retrieval]' in s:\n",
    "        return True\n",
    "    return False\n",
    "\n",
    "gen_id2data = {x['id']: x for x in gen_data}\n",
    "dataset_names = set([x['dataset_name'] for x in gen_data])\n",
    "print(Counter([x['dataset_name'] for x in gen_data]))\n",
    "print('Retrieval label distribution')\n",
    "for ds_name in dataset_names:\n",
    "    print(ds_name)\n",
    "    ds_subset = [x for x in gen_data if x['dataset_name'] == ds_name]\n",
    "    retrieval_count = len([x for x in ds_subset if '[Retrieval]' in x['output']])\n",
    "    no_retrieval_count = len([x for x in ds_subset if '[No Retrieval]' in x['output']])\n",
    "    continue_count = len([x for x in ds_subset if '[Continue to Use Evidence]' in x['output']])\n",
    "    multi_count = len([x for x in ds_subset if has_more_than_one(x['output'])])\n",
    "    # print(f\"\\t{retrieval_count/len(ds_subset):.04f} RET\\t{no_retrieval_count/len(ds_subset):.04f} NO RET\\t{continue_count/len(ds_subset):.04f} CONT\\t{multi_count/len(ds_subset):.04f} mixture\")\n",
    "    print(f\"\\t{retrieval_count/len(ds_subset):.04f} RET\\t{continue_count/len(ds_subset):.04f} CONT\\t{multi_count/len(ds_subset):.04f} mixture\")\n",
    "    \n"
   ]
  },
  {
   "cell_type": "code",
   "execution_count": null,
   "id": "0c1ebaa6-4168-4c8a-bdd6-f10b6d840d5b",
   "metadata": {},
   "outputs": [],
   "source": []
  }
 ],
 "metadata": {
  "kernelspec": {
   "display_name": "Python 3 (ipykernel)",
   "language": "python",
   "name": "python3"
  },
  "language_info": {
   "codemirror_mode": {
    "name": "ipython",
    "version": 3
   },
   "file_extension": ".py",
   "mimetype": "text/x-python",
   "name": "python",
   "nbconvert_exporter": "python",
   "pygments_lexer": "ipython3",
   "version": "3.8.18"
  }
 },
 "nbformat": 4,
 "nbformat_minor": 5
}
