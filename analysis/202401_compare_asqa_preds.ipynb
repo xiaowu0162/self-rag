{
 "cells": [
  {
   "cell_type": "code",
   "execution_count": 3,
   "id": "f38119a1-c352-4fc2-a6b3-6d82cd3817b7",
   "metadata": {},
   "outputs": [],
   "source": [
    "import json\n",
    "\n",
    "\n",
    "pred1 = json.load(open('/home/diwu/ralm/self-rag/results/asqa/always-rag/selfrag-7b.json'))['data']  # official\n",
    "pred2 = json.load(open('/home/diwu/ralm/self-rag/results/asqa/always-rag/selfrag-7b-official.json'))['data']  # reproduced\n",
    "\n",
    "zipped_preds = list(zip(pred1, pred2))"
   ]
  },
  {
   "cell_type": "code",
   "execution_count": 19,
   "id": "5aca727b-3b1f-4c2a-88ba-64e67664512f",
   "metadata": {},
   "outputs": [
    {
     "name": "stdout",
     "output_type": "stream",
     "text": [
      "Reproduced output:\n",
      "A bait car, also called a decoy car, hot car or trap car, is a vehicle used by law enforcement agencies to capture car thieves or thieves who steal items from cars. The vehicles are modified with audio/video surveillance technology, and can be remotely monitored and controlled. Those set up to catch car thieves may include GPS tracking [1].\n",
      "===============================\n",
      "Official output:\n",
      "A bait car, also called a decoy car, hot car or trap car, is a vehicle used by law enforcement agencies to capture car thieves or thieves who steal items from cars [1]. The vehicles are modified with audio/video surveillance technology, and can be remotely monitored and controlled [1]. Those set up to catch car thieves may include GPS tracking [1].\n"
     ]
    }
   ],
   "source": [
    "case = 12\n",
    "\n",
    "print('Reproduced output:')\n",
    "print(zipped_preds[case][0]['output'])\n",
    "\n",
    "print('===============================')\n",
    "print('Official output:')\n",
    "print(zipped_preds[case][1]['output'])\n"
   ]
  },
  {
   "cell_type": "code",
   "execution_count": null,
   "id": "c8bceaae-4ef4-46c8-be68-38ed803bb780",
   "metadata": {},
   "outputs": [],
   "source": []
  }
 ],
 "metadata": {
  "kernelspec": {
   "display_name": "Python 3 (ipykernel)",
   "language": "python",
   "name": "python3"
  },
  "language_info": {
   "codemirror_mode": {
    "name": "ipython",
    "version": 3
   },
   "file_extension": ".py",
   "mimetype": "text/x-python",
   "name": "python",
   "nbconvert_exporter": "python",
   "pygments_lexer": "ipython3",
   "version": "3.8.18"
  }
 },
 "nbformat": 4,
 "nbformat_minor": 5
}
